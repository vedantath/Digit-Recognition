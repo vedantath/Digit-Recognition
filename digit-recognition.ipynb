{
 "cells": [
  {
   "cell_type": "code",
   "execution_count": 1,
   "id": "286c66f9",
   "metadata": {
    "_cell_guid": "b1076dfc-b9ad-4769-8c92-a6c4dae69d19",
    "_uuid": "8f2839f25d086af736a60e9eeb907d3b93b6e0e5",
    "execution": {
     "iopub.execute_input": "2024-02-29T22:12:29.058360Z",
     "iopub.status.busy": "2024-02-29T22:12:29.056511Z",
     "iopub.status.idle": "2024-02-29T22:12:47.604870Z",
     "shell.execute_reply": "2024-02-29T22:12:47.602810Z"
    },
    "papermill": {
     "duration": 18.564362,
     "end_time": "2024-02-29T22:12:47.608474",
     "exception": false,
     "start_time": "2024-02-29T22:12:29.044112",
     "status": "completed"
    },
    "tags": []
   },
   "outputs": [
    {
     "name": "stderr",
     "output_type": "stream",
     "text": [
      "/tmp/ipykernel_18/2395820855.py:6: MatplotlibDeprecationWarning: The seaborn styles shipped by Matplotlib are deprecated since 3.6, as they no longer correspond to the styles shipped by seaborn. However, they will remain available as 'seaborn-v0_8-<style>'. Alternatively, directly use the seaborn API instead.\n",
      "  plt.style.use('seaborn-whitegrid')\n"
     ]
    }
   ],
   "source": [
    "import numpy as np\n",
    "import pandas as pd\n",
    "import seaborn as sns\n",
    "from matplotlib import pyplot as plt\n",
    "\n",
    "plt.style.use('seaborn-whitegrid')\n",
    "# Set Matplotlib defaults\n",
    "plt.rc('figure', autolayout=True)\n",
    "plt.rc('axes', labelweight='bold', labelsize='large',\n",
    "       titleweight='bold', titlesize=18, titlepad=10)\n",
    "\n",
    "from tensorflow import keras\n",
    "from tensorflow.keras import layers\n",
    "\n",
    "import warnings\n",
    "warnings.filterwarnings('ignore')"
   ]
  },
  {
   "cell_type": "markdown",
   "id": "b30b3053",
   "metadata": {
    "papermill": {
     "duration": 0.008433,
     "end_time": "2024-02-29T22:12:47.625857",
     "exception": false,
     "start_time": "2024-02-29T22:12:47.617424",
     "status": "completed"
    },
    "tags": []
   },
   "source": []
  },
  {
   "cell_type": "code",
   "execution_count": 2,
   "id": "c8f4e30c",
   "metadata": {
    "execution": {
     "iopub.execute_input": "2024-02-29T22:12:47.645886Z",
     "iopub.status.busy": "2024-02-29T22:12:47.644941Z",
     "iopub.status.idle": "2024-02-29T22:12:54.850677Z",
     "shell.execute_reply": "2024-02-29T22:12:54.849506Z"
    },
    "papermill": {
     "duration": 7.219072,
     "end_time": "2024-02-29T22:12:54.853509",
     "exception": false,
     "start_time": "2024-02-29T22:12:47.634437",
     "status": "completed"
    },
    "tags": []
   },
   "outputs": [],
   "source": [
    "data = pd.read_csv(\"/kaggle/input/digit-recognizer/train.csv\")\n",
    "test_data = pd.read_csv(\"/kaggle/input/digit-recognizer/test.csv\")"
   ]
  },
  {
   "cell_type": "code",
   "execution_count": 3,
   "id": "3afe1e10",
   "metadata": {
    "execution": {
     "iopub.execute_input": "2024-02-29T22:12:54.873293Z",
     "iopub.status.busy": "2024-02-29T22:12:54.872858Z",
     "iopub.status.idle": "2024-02-29T22:12:54.908595Z",
     "shell.execute_reply": "2024-02-29T22:12:54.907647Z"
    },
    "papermill": {
     "duration": 0.048307,
     "end_time": "2024-02-29T22:12:54.911158",
     "exception": false,
     "start_time": "2024-02-29T22:12:54.862851",
     "status": "completed"
    },
    "tags": []
   },
   "outputs": [
    {
     "data": {
      "text/html": [
       "<div>\n",
       "<style scoped>\n",
       "    .dataframe tbody tr th:only-of-type {\n",
       "        vertical-align: middle;\n",
       "    }\n",
       "\n",
       "    .dataframe tbody tr th {\n",
       "        vertical-align: top;\n",
       "    }\n",
       "\n",
       "    .dataframe thead th {\n",
       "        text-align: right;\n",
       "    }\n",
       "</style>\n",
       "<table border=\"1\" class=\"dataframe\">\n",
       "  <thead>\n",
       "    <tr style=\"text-align: right;\">\n",
       "      <th></th>\n",
       "      <th>label</th>\n",
       "      <th>pixel0</th>\n",
       "      <th>pixel1</th>\n",
       "      <th>pixel2</th>\n",
       "      <th>pixel3</th>\n",
       "      <th>pixel4</th>\n",
       "      <th>pixel5</th>\n",
       "      <th>pixel6</th>\n",
       "      <th>pixel7</th>\n",
       "      <th>pixel8</th>\n",
       "      <th>...</th>\n",
       "      <th>pixel774</th>\n",
       "      <th>pixel775</th>\n",
       "      <th>pixel776</th>\n",
       "      <th>pixel777</th>\n",
       "      <th>pixel778</th>\n",
       "      <th>pixel779</th>\n",
       "      <th>pixel780</th>\n",
       "      <th>pixel781</th>\n",
       "      <th>pixel782</th>\n",
       "      <th>pixel783</th>\n",
       "    </tr>\n",
       "  </thead>\n",
       "  <tbody>\n",
       "    <tr>\n",
       "      <th>0</th>\n",
       "      <td>1</td>\n",
       "      <td>0</td>\n",
       "      <td>0</td>\n",
       "      <td>0</td>\n",
       "      <td>0</td>\n",
       "      <td>0</td>\n",
       "      <td>0</td>\n",
       "      <td>0</td>\n",
       "      <td>0</td>\n",
       "      <td>0</td>\n",
       "      <td>...</td>\n",
       "      <td>0</td>\n",
       "      <td>0</td>\n",
       "      <td>0</td>\n",
       "      <td>0</td>\n",
       "      <td>0</td>\n",
       "      <td>0</td>\n",
       "      <td>0</td>\n",
       "      <td>0</td>\n",
       "      <td>0</td>\n",
       "      <td>0</td>\n",
       "    </tr>\n",
       "    <tr>\n",
       "      <th>1</th>\n",
       "      <td>0</td>\n",
       "      <td>0</td>\n",
       "      <td>0</td>\n",
       "      <td>0</td>\n",
       "      <td>0</td>\n",
       "      <td>0</td>\n",
       "      <td>0</td>\n",
       "      <td>0</td>\n",
       "      <td>0</td>\n",
       "      <td>0</td>\n",
       "      <td>...</td>\n",
       "      <td>0</td>\n",
       "      <td>0</td>\n",
       "      <td>0</td>\n",
       "      <td>0</td>\n",
       "      <td>0</td>\n",
       "      <td>0</td>\n",
       "      <td>0</td>\n",
       "      <td>0</td>\n",
       "      <td>0</td>\n",
       "      <td>0</td>\n",
       "    </tr>\n",
       "    <tr>\n",
       "      <th>2</th>\n",
       "      <td>1</td>\n",
       "      <td>0</td>\n",
       "      <td>0</td>\n",
       "      <td>0</td>\n",
       "      <td>0</td>\n",
       "      <td>0</td>\n",
       "      <td>0</td>\n",
       "      <td>0</td>\n",
       "      <td>0</td>\n",
       "      <td>0</td>\n",
       "      <td>...</td>\n",
       "      <td>0</td>\n",
       "      <td>0</td>\n",
       "      <td>0</td>\n",
       "      <td>0</td>\n",
       "      <td>0</td>\n",
       "      <td>0</td>\n",
       "      <td>0</td>\n",
       "      <td>0</td>\n",
       "      <td>0</td>\n",
       "      <td>0</td>\n",
       "    </tr>\n",
       "    <tr>\n",
       "      <th>3</th>\n",
       "      <td>4</td>\n",
       "      <td>0</td>\n",
       "      <td>0</td>\n",
       "      <td>0</td>\n",
       "      <td>0</td>\n",
       "      <td>0</td>\n",
       "      <td>0</td>\n",
       "      <td>0</td>\n",
       "      <td>0</td>\n",
       "      <td>0</td>\n",
       "      <td>...</td>\n",
       "      <td>0</td>\n",
       "      <td>0</td>\n",
       "      <td>0</td>\n",
       "      <td>0</td>\n",
       "      <td>0</td>\n",
       "      <td>0</td>\n",
       "      <td>0</td>\n",
       "      <td>0</td>\n",
       "      <td>0</td>\n",
       "      <td>0</td>\n",
       "    </tr>\n",
       "    <tr>\n",
       "      <th>4</th>\n",
       "      <td>0</td>\n",
       "      <td>0</td>\n",
       "      <td>0</td>\n",
       "      <td>0</td>\n",
       "      <td>0</td>\n",
       "      <td>0</td>\n",
       "      <td>0</td>\n",
       "      <td>0</td>\n",
       "      <td>0</td>\n",
       "      <td>0</td>\n",
       "      <td>...</td>\n",
       "      <td>0</td>\n",
       "      <td>0</td>\n",
       "      <td>0</td>\n",
       "      <td>0</td>\n",
       "      <td>0</td>\n",
       "      <td>0</td>\n",
       "      <td>0</td>\n",
       "      <td>0</td>\n",
       "      <td>0</td>\n",
       "      <td>0</td>\n",
       "    </tr>\n",
       "  </tbody>\n",
       "</table>\n",
       "<p>5 rows × 785 columns</p>\n",
       "</div>"
      ],
      "text/plain": [
       "   label  pixel0  pixel1  pixel2  pixel3  pixel4  pixel5  pixel6  pixel7  \\\n",
       "0      1       0       0       0       0       0       0       0       0   \n",
       "1      0       0       0       0       0       0       0       0       0   \n",
       "2      1       0       0       0       0       0       0       0       0   \n",
       "3      4       0       0       0       0       0       0       0       0   \n",
       "4      0       0       0       0       0       0       0       0       0   \n",
       "\n",
       "   pixel8  ...  pixel774  pixel775  pixel776  pixel777  pixel778  pixel779  \\\n",
       "0       0  ...         0         0         0         0         0         0   \n",
       "1       0  ...         0         0         0         0         0         0   \n",
       "2       0  ...         0         0         0         0         0         0   \n",
       "3       0  ...         0         0         0         0         0         0   \n",
       "4       0  ...         0         0         0         0         0         0   \n",
       "\n",
       "   pixel780  pixel781  pixel782  pixel783  \n",
       "0         0         0         0         0  \n",
       "1         0         0         0         0  \n",
       "2         0         0         0         0  \n",
       "3         0         0         0         0  \n",
       "4         0         0         0         0  \n",
       "\n",
       "[5 rows x 785 columns]"
      ]
     },
     "execution_count": 3,
     "metadata": {},
     "output_type": "execute_result"
    }
   ],
   "source": [
    "data.head()"
   ]
  },
  {
   "cell_type": "code",
   "execution_count": 4,
   "id": "25ba351f",
   "metadata": {
    "execution": {
     "iopub.execute_input": "2024-02-29T22:12:54.933359Z",
     "iopub.status.busy": "2024-02-29T22:12:54.932207Z",
     "iopub.status.idle": "2024-02-29T22:12:55.823766Z",
     "shell.execute_reply": "2024-02-29T22:12:55.822560Z"
    },
    "papermill": {
     "duration": 0.905241,
     "end_time": "2024-02-29T22:12:55.826601",
     "exception": false,
     "start_time": "2024-02-29T22:12:54.921360",
     "status": "completed"
    },
    "tags": []
   },
   "outputs": [],
   "source": [
    "#training data\n",
    "Y_train = data[\"label\"]\n",
    "X_train = data.drop(labels = [\"label\"],axis = 1) \n",
    "\n",
    "#validation data\n",
    "data_valid = np.array(data)\n",
    "m, n = data_valid.shape\n",
    "np.random.shuffle(data_valid)\n",
    "\n",
    "df_valid = data_valid[0:1000].T\n",
    "Y_valid = df_valid[0]\n",
    "X_valid = df_valid[1:n]"
   ]
  },
  {
   "cell_type": "code",
   "execution_count": 5,
   "id": "426d3671",
   "metadata": {
    "execution": {
     "iopub.execute_input": "2024-02-29T22:12:55.846637Z",
     "iopub.status.busy": "2024-02-29T22:12:55.846181Z",
     "iopub.status.idle": "2024-02-29T22:12:55.854693Z",
     "shell.execute_reply": "2024-02-29T22:12:55.853485Z"
    },
    "papermill": {
     "duration": 0.021597,
     "end_time": "2024-02-29T22:12:55.857309",
     "exception": false,
     "start_time": "2024-02-29T22:12:55.835712",
     "status": "completed"
    },
    "tags": []
   },
   "outputs": [
    {
     "data": {
      "text/plain": [
       "(42000, 784)"
      ]
     },
     "execution_count": 5,
     "metadata": {},
     "output_type": "execute_result"
    }
   ],
   "source": [
    "X_train.shape"
   ]
  },
  {
   "cell_type": "code",
   "execution_count": 6,
   "id": "9a1a01b1",
   "metadata": {
    "execution": {
     "iopub.execute_input": "2024-02-29T22:12:55.881053Z",
     "iopub.status.busy": "2024-02-29T22:12:55.880576Z",
     "iopub.status.idle": "2024-02-29T22:12:55.887684Z",
     "shell.execute_reply": "2024-02-29T22:12:55.886656Z"
    },
    "papermill": {
     "duration": 0.022424,
     "end_time": "2024-02-29T22:12:55.890037",
     "exception": false,
     "start_time": "2024-02-29T22:12:55.867613",
     "status": "completed"
    },
    "tags": []
   },
   "outputs": [
    {
     "data": {
      "text/plain": [
       "(42000,)"
      ]
     },
     "execution_count": 6,
     "metadata": {},
     "output_type": "execute_result"
    }
   ],
   "source": [
    "Y_train.shape"
   ]
  },
  {
   "cell_type": "code",
   "execution_count": 7,
   "id": "ca61de64",
   "metadata": {
    "execution": {
     "iopub.execute_input": "2024-02-29T22:12:55.911226Z",
     "iopub.status.busy": "2024-02-29T22:12:55.910427Z",
     "iopub.status.idle": "2024-02-29T22:12:56.559768Z",
     "shell.execute_reply": "2024-02-29T22:12:56.558501Z"
    },
    "papermill": {
     "duration": 0.662884,
     "end_time": "2024-02-29T22:12:56.562580",
     "exception": false,
     "start_time": "2024-02-29T22:12:55.899696",
     "status": "completed"
    },
    "tags": []
   },
   "outputs": [
    {
     "data": {
      "text/plain": [
       "label\n",
       "1    4684\n",
       "7    4401\n",
       "3    4351\n",
       "9    4188\n",
       "2    4177\n",
       "6    4137\n",
       "0    4132\n",
       "4    4072\n",
       "8    4063\n",
       "5    3795\n",
       "Name: count, dtype: int64"
      ]
     },
     "execution_count": 7,
     "metadata": {},
     "output_type": "execute_result"
    },
    {
     "data": {
      "image/png": "[encoded data removed]",
      "text/plain": [
       "<Figure size 1500x700 with 1 Axes>"
      ]
     },
     "metadata": {},
     "output_type": "display_data"
    }
   ],
   "source": [
    "# visualize number of digits classes\n",
    "plt.figure(figsize=(15,7))\n",
    "g = sns.countplot(x=Y_train, palette=\"icefire\")\n",
    "plt.title(\"Number of digit classes\")\n",
    "Y_train.value_counts()"
   ]
  },
  {
   "cell_type": "code",
   "execution_count": 8,
   "id": "5bdba732",
   "metadata": {
    "execution": {
     "iopub.execute_input": "2024-02-29T22:12:56.584900Z",
     "iopub.status.busy": "2024-02-29T22:12:56.584491Z",
     "iopub.status.idle": "2024-02-29T22:12:56.770141Z",
     "shell.execute_reply": "2024-02-29T22:12:56.766525Z"
    },
    "papermill": {
     "duration": 0.203653,
     "end_time": "2024-02-29T22:12:56.776364",
     "exception": false,
     "start_time": "2024-02-29T22:12:56.572711",
     "status": "completed"
    },
    "tags": []
   },
   "outputs": [
    {
     "name": "stdout",
     "output_type": "stream",
     "text": [
      "[[  0   0   0   0   0   0   0   0   0   0   0   0   0   0   0   0   0   0\n",
      "    0   0   0   0   0   0   0   0   0   0]\n",
      " [  0   0   0   0   0   0   0   0   0   0   0   0   0   0   0   0   0   0\n",
      "    0   0   0   0   0   0   0   0   0   0]\n",
      " [  0   0   0   0   0   0   0   0   0   0   0   0   0   0   0   0   0   0\n",
      "    0   0   0   0   0   0   0   0   0   0]\n",
      " [  0   0   0   0   0   0   0   0   0   0   0   0   0   0   0   0   0   0\n",
      "    0   0   0   0   0   0   0   0   0   0]\n",
      " [  0   0   0   0   0   0   0   0   0   0  18  30 137 137 192  86  72   1\n",
      "    0   0   0   0   0   0   0   0   0   0]\n",
      " [  0   0   0   0   0   0   0   0  13  86 250 254 254 254 254 217 246 151\n",
      "   32   0   0   0   0   0   0   0   0   0]\n",
      " [  0   0   0   0   0   0   0  16 179 254 254 254 254 254 254 254 254 254\n",
      "  231  54  15   0   0   0   0   0   0   0]\n",
      " [  0   0   0   0   0   0   0  72 254 254 254 254 254 254 254 254 254 254\n",
      "  254 254 104   0   0   0   0   0   0   0]\n",
      " [  0   0   0   0   0   0  61 191 254 254 254 254 254 109  83 199 254 254\n",
      "  254 254 243  85   0   0   0   0   0   0]\n",
      " [  0   0   0   0   0   0 172 254 254 254 202 147 147  45   0  11  29 200\n",
      "  254 254 254 171   0   0   0   0   0   0]\n",
      " [  0   0   0   0   0   1 174 254 254  89  67   0   0   0   0   0   0 128\n",
      "  252 254 254 212  76   0   0   0   0   0]\n",
      " [  0   0   0   0   0  47 254 254 254  29   0   0   0   0   0   0   0   0\n",
      "   83 254 254 254 153   0   0   0   0   0]\n",
      " [  0   0   0   0   0  80 254 254 240  24   0   0   0   0   0   0   0   0\n",
      "   25 240 254 254 153   0   0   0   0   0]\n",
      " [  0   0   0   0   0  64 254 254 186   7   0   0   0   0   0   0   0   0\n",
      "    0 166 254 254 224  12   0   0   0   0]\n",
      " [  0   0   0   0  14 232 254 254 254  29   0   0   0   0   0   0   0   0\n",
      "    0  75 254 254 254  17   0   0   0   0]\n",
      " [  0   0   0   0  18 254 254 254 254  29   0   0   0   0   0   0   0   0\n",
      "    0  48 254 254 254  17   0   0   0   0]\n",
      " [  0   0   0   0   2 163 254 254 254  29   0   0   0   0   0   0   0   0\n",
      "    0  48 254 254 254  17   0   0   0   0]\n",
      " [  0   0   0   0   0  94 254 254 254 200  12   0   0   0   0   0   0   0\n",
      "   16 209 254 254 150   1   0   0   0   0]\n",
      " [  0   0   0   0   0  15 206 254 254 254 202  66   0   0   0   0   0  21\n",
      "  161 254 254 245  31   0   0   0   0   0]\n",
      " [  0   0   0   0   0   0  60 212 254 254 254 194  48  48  34  41  48 209\n",
      "  254 254 254 171   0   0   0   0   0   0]\n",
      " [  0   0   0   0   0   0   0  86 243 254 254 254 254 254 233 243 254 254\n",
      "  254 254 254  86   0   0   0   0   0   0]\n",
      " [  0   0   0   0   0   0   0   0 114 254 254 254 254 254 254 254 254 254\n",
      "  254 239  86  11   0   0   0   0   0   0]\n",
      " [  0   0   0   0   0   0   0   0  13 182 254 254 254 254 254 254 254 254\n",
      "  243  70   0   0   0   0   0   0   0   0]\n",
      " [  0   0   0   0   0   0   0   0   0   8  76 146 254 255 254 255 146  19\n",
      "   15   0   0   0   0   0   0   0   0   0]\n",
      " [  0   0   0   0   0   0   0   0   0   0   0   0   0   0   0   0   0   0\n",
      "    0   0   0   0   0   0   0   0   0   0]\n",
      " [  0   0   0   0   0   0   0   0   0   0   0   0   0   0   0   0   0   0\n",
      "    0   0   0   0   0   0   0   0   0   0]\n",
      " [  0   0   0   0   0   0   0   0   0   0   0   0   0   0   0   0   0   0\n",
      "    0   0   0   0   0   0   0   0   0   0]\n",
      " [  0   0   0   0   0   0   0   0   0   0   0   0   0   0   0   0   0   0\n",
      "    0   0   0   0   0   0   0   0   0   0]]\n"
     ]
    },
    {
     "data": {
      "image/png": "[encoded data removed]",
      "text/plain": [
       "<Figure size 640x480 with 1 Axes>"
      ]
     },
     "metadata": {},
     "output_type": "display_data"
    }
   ],
   "source": [
    "# plot some samples\n",
    "\n",
    "i=1;\n",
    "img = X_train.iloc[i].to_numpy()\n",
    "img = img.reshape((28,28))\n",
    "print(img)\n",
    "plt.imshow(img,cmap='gray')\n",
    "plt.title(data.iloc[i,0]) #label\n",
    "plt.axis(\"off\")\n",
    "plt.show()"
   ]
  },
  {
   "cell_type": "code",
   "execution_count": 9,
   "id": "a6a3b0f7",
   "metadata": {
    "execution": {
     "iopub.execute_input": "2024-02-29T22:12:56.801111Z",
     "iopub.status.busy": "2024-02-29T22:12:56.800658Z",
     "iopub.status.idle": "2024-02-29T22:12:56.917229Z",
     "shell.execute_reply": "2024-02-29T22:12:56.915735Z"
    },
    "papermill": {
     "duration": 0.13262,
     "end_time": "2024-02-29T22:12:56.920103",
     "exception": false,
     "start_time": "2024-02-29T22:12:56.787483",
     "status": "completed"
    },
    "tags": []
   },
   "outputs": [
    {
     "name": "stdout",
     "output_type": "stream",
     "text": [
      "X_train shape:  (42000, 784)\n",
      "test_data shape:  (28000, 784)\n"
     ]
    }
   ],
   "source": [
    "# Normalize the data\n",
    "X_train = X_train / 255.0\n",
    "test_data = test_data / 255.0\n",
    "print(\"X_train shape: \",X_train.shape)\n",
    "print(\"test_data shape: \",test_data.shape)"
   ]
  },
  {
   "cell_type": "code",
   "execution_count": 10,
   "id": "c6c3d61d",
   "metadata": {
    "execution": {
     "iopub.execute_input": "2024-02-29T22:12:56.945614Z",
     "iopub.status.busy": "2024-02-29T22:12:56.945186Z",
     "iopub.status.idle": "2024-02-29T22:12:56.952888Z",
     "shell.execute_reply": "2024-02-29T22:12:56.951458Z"
    },
    "papermill": {
     "duration": 0.02453,
     "end_time": "2024-02-29T22:12:56.955869",
     "exception": false,
     "start_time": "2024-02-29T22:12:56.931339",
     "status": "completed"
    },
    "tags": []
   },
   "outputs": [
    {
     "name": "stdout",
     "output_type": "stream",
     "text": [
      "X_train shape:  (42000, 28, 28, 1)\n",
      "test_data:  (28000, 28, 28, 1)\n"
     ]
    }
   ],
   "source": [
    "# Reshape\n",
    "X_train = X_train.values.reshape(-1,28,28,1)\n",
    "test_data = test_data.values.reshape(-1,28,28,1)\n",
    "print(\"X_train shape: \",X_train.shape)\n",
    "print(\"test_data: \",test_data.shape)"
   ]
  },
  {
   "cell_type": "code",
   "execution_count": 11,
   "id": "a12ce220",
   "metadata": {
    "execution": {
     "iopub.execute_input": "2024-02-29T22:12:56.980058Z",
     "iopub.status.busy": "2024-02-29T22:12:56.979523Z",
     "iopub.status.idle": "2024-02-29T22:12:56.987755Z",
     "shell.execute_reply": "2024-02-29T22:12:56.986524Z"
    },
    "papermill": {
     "duration": 0.024282,
     "end_time": "2024-02-29T22:12:56.990838",
     "exception": false,
     "start_time": "2024-02-29T22:12:56.966556",
     "status": "completed"
    },
    "tags": []
   },
   "outputs": [],
   "source": [
    "# Label Encoding \n",
    "from tensorflow.keras.utils import to_categorical # convert to one-hot-encoding\n",
    "Y_train = to_categorical(Y_train, num_classes = 10)"
   ]
  },
  {
   "cell_type": "code",
   "execution_count": 12,
   "id": "d2532ea7",
   "metadata": {
    "execution": {
     "iopub.execute_input": "2024-02-29T22:12:57.014505Z",
     "iopub.status.busy": "2024-02-29T22:12:57.014071Z",
     "iopub.status.idle": "2024-02-29T22:12:57.786355Z",
     "shell.execute_reply": "2024-02-29T22:12:57.785025Z"
    },
    "papermill": {
     "duration": 0.787736,
     "end_time": "2024-02-29T22:12:57.789250",
     "exception": false,
     "start_time": "2024-02-29T22:12:57.001514",
     "status": "completed"
    },
    "tags": []
   },
   "outputs": [
    {
     "name": "stdout",
     "output_type": "stream",
     "text": [
      "X_train shape (37800, 28, 28, 1)\n",
      "X_valid shape (4200, 28, 28, 1)\n",
      "Y_train shape (37800, 10)\n",
      "Y_valid shape (4200, 10)\n"
     ]
    }
   ],
   "source": [
    "# Split the train and the validation set for the fitting\n",
    "from sklearn.model_selection import train_test_split\n",
    "X_train, X_valid, Y_train, Y_valid = train_test_split(X_train, Y_train, test_size = 0.1, random_state=2)\n",
    "\n",
    "print(\"X_train shape\",X_train.shape)\n",
    "print(\"X_valid shape\",X_valid.shape)\n",
    "print(\"Y_train shape\",Y_train.shape)\n",
    "print(\"Y_valid shape\",Y_valid.shape)"
   ]
  },
  {
   "cell_type": "code",
   "execution_count": 13,
   "id": "7ad26e87",
   "metadata": {
    "execution": {
     "iopub.execute_input": "2024-02-29T22:12:57.814330Z",
     "iopub.status.busy": "2024-02-29T22:12:57.813836Z",
     "iopub.status.idle": "2024-02-29T22:12:57.820748Z",
     "shell.execute_reply": "2024-02-29T22:12:57.818956Z"
    },
    "papermill": {
     "duration": 0.022931,
     "end_time": "2024-02-29T22:12:57.823482",
     "exception": false,
     "start_time": "2024-02-29T22:12:57.800551",
     "status": "completed"
    },
    "tags": []
   },
   "outputs": [],
   "source": [
    "def binaryToInt(arr):\n",
    "    x=0\n",
    "    label=-1\n",
    "    for j in arr:\n",
    "        if(j==1):\n",
    "            label = x\n",
    "        x +=1\n",
    "    return label"
   ]
  },
  {
   "cell_type": "code",
   "execution_count": 14,
   "id": "963e275f",
   "metadata": {
    "execution": {
     "iopub.execute_input": "2024-02-29T22:12:57.850485Z",
     "iopub.status.busy": "2024-02-29T22:12:57.849707Z",
     "iopub.status.idle": "2024-02-29T22:12:59.536237Z",
     "shell.execute_reply": "2024-02-29T22:12:59.533557Z"
    },
    "papermill": {
     "duration": 1.706107,
     "end_time": "2024-02-29T22:12:59.541170",
     "exception": false,
     "start_time": "2024-02-29T22:12:57.835063",
     "status": "completed"
    },
    "tags": []
   },
   "outputs": [
    {
     "data": {
      "image/png": "[encoded data removed]",
      "text/plain": [
       "<Figure size 1000x1000 with 25 Axes>"
      ]
     },
     "metadata": {},
     "output_type": "display_data"
    }
   ],
   "source": [
    "# Display some sample images\n",
    "plt.figure(figsize=(10, 10))\n",
    "for i in range(25):\n",
    "    plt.subplot(5, 5, i + 1)\n",
    "    plt.xticks([])\n",
    "    plt.yticks([])\n",
    "    plt.grid(False)\n",
    "    plt.imshow(X_train[i], cmap=plt.cm.binary)\n",
    "    plt.xlabel(binaryToInt(Y_train[i]))\n",
    "plt.show()"
   ]
  },
  {
   "cell_type": "code",
   "execution_count": 15,
   "id": "249231db",
   "metadata": {
    "execution": {
     "iopub.execute_input": "2024-02-29T22:12:59.577056Z",
     "iopub.status.busy": "2024-02-29T22:12:59.576608Z",
     "iopub.status.idle": "2024-02-29T22:12:59.845728Z",
     "shell.execute_reply": "2024-02-29T22:12:59.844356Z"
    },
    "papermill": {
     "duration": 0.288635,
     "end_time": "2024-02-29T22:12:59.848377",
     "exception": false,
     "start_time": "2024-02-29T22:12:59.559742",
     "status": "completed"
    },
    "tags": []
   },
   "outputs": [
    {
     "data": {
      "image/png": "[encoded data removed]",
      "text/plain": [
       "<Figure size 640x480 with 1 Axes>"
      ]
     },
     "metadata": {},
     "output_type": "display_data"
    }
   ],
   "source": [
    "# Some examples\n",
    "plt.imshow(X_train[1][:,:,0],cmap='gray')\n",
    "plt.show()"
   ]
  },
  {
   "cell_type": "code",
   "execution_count": 16,
   "id": "1fc71d4e",
   "metadata": {
    "execution": {
     "iopub.execute_input": "2024-02-29T22:12:59.875935Z",
     "iopub.status.busy": "2024-02-29T22:12:59.874844Z",
     "iopub.status.idle": "2024-02-29T22:13:00.157226Z",
     "shell.execute_reply": "2024-02-29T22:13:00.155988Z"
    },
    "papermill": {
     "duration": 0.299657,
     "end_time": "2024-02-29T22:13:00.160030",
     "exception": false,
     "start_time": "2024-02-29T22:12:59.860373",
     "status": "completed"
    },
    "tags": []
   },
   "outputs": [],
   "source": [
    "#neural network --> perform convulution net (Conv2D)\n",
    "\n",
    "model = keras.Sequential([\n",
    "    layers.Conv2D(filters=8, kernel_size=5, padding = 'Same', activation ='relu', input_shape = (28,28,1)),\n",
    "    layers.MaxPool2D(pool_size=2),\n",
    "    layers.Dropout(0.25),\n",
    "    layers.Conv2D(filters=16, kernel_size=3, padding = 'Same',activation ='relu'),\n",
    "    layers.MaxPool2D(pool_size=2, strides=2),\n",
    "    layers.Dropout(0.25),\n",
    "    layers.Flatten(),\n",
    "    layers.Dense(256, activation = \"relu\"),\n",
    "    layers.Dropout(0.5),\n",
    "    layers.Dense(10, activation = \"sigmoid\"),\n",
    "])\n"
   ]
  },
  {
   "cell_type": "code",
   "execution_count": 17,
   "id": "1f84200d",
   "metadata": {
    "execution": {
     "iopub.execute_input": "2024-02-29T22:13:00.185594Z",
     "iopub.status.busy": "2024-02-29T22:13:00.185166Z",
     "iopub.status.idle": "2024-02-29T22:13:00.226579Z",
     "shell.execute_reply": "2024-02-29T22:13:00.225450Z"
    },
    "papermill": {
     "duration": 0.067485,
     "end_time": "2024-02-29T22:13:00.239595",
     "exception": false,
     "start_time": "2024-02-29T22:13:00.172110",
     "status": "completed"
    },
    "tags": []
   },
   "outputs": [
    {
     "name": "stdout",
     "output_type": "stream",
     "text": [
      "Model: \"sequential\"\n",
      "_________________________________________________________________\n",
      " Layer (type)                Output Shape              Param #   \n",
      "=================================================================\n",
      " conv2d (Conv2D)             (None, 28, 28, 8)         208       \n",
      "                                                                 \n",
      " max_pooling2d (MaxPooling2  (None, 14, 14, 8)         0         \n",
      " D)                                                              \n",
      "                                                                 \n",
      " dropout (Dropout)           (None, 14, 14, 8)         0         \n",
      "                                                                 \n",
      " conv2d_1 (Conv2D)           (None, 14, 14, 16)        1168      \n",
      "                                                                 \n",
      " max_pooling2d_1 (MaxPoolin  (None, 7, 7, 16)          0         \n",
      " g2D)                                                            \n",
      "                                                                 \n",
      " dropout_1 (Dropout)         (None, 7, 7, 16)          0         \n",
      "                                                                 \n",
      " flatten (Flatten)           (None, 784)               0         \n",
      "                                                                 \n",
      " dense (Dense)               (None, 256)               200960    \n",
      "                                                                 \n",
      " dropout_2 (Dropout)         (None, 256)               0         \n",
      "                                                                 \n",
      " dense_1 (Dense)             (None, 10)                2570      \n",
      "                                                                 \n",
      "=================================================================\n",
      "Total params: 204906 (800.41 KB)\n",
      "Trainable params: 204906 (800.41 KB)\n",
      "Non-trainable params: 0 (0.00 Byte)\n",
      "_________________________________________________________________\n"
     ]
    }
   ],
   "source": [
    "model.summary()"
   ]
  },
  {
   "cell_type": "code",
   "execution_count": 18,
   "id": "72825f9a",
   "metadata": {
    "execution": {
     "iopub.execute_input": "2024-02-29T22:13:00.271034Z",
     "iopub.status.busy": "2024-02-29T22:13:00.270538Z",
     "iopub.status.idle": "2024-02-29T22:13:00.293784Z",
     "shell.execute_reply": "2024-02-29T22:13:00.292261Z"
    },
    "papermill": {
     "duration": 0.04282,
     "end_time": "2024-02-29T22:13:00.296775",
     "exception": false,
     "start_time": "2024-02-29T22:13:00.253955",
     "status": "completed"
    },
    "tags": []
   },
   "outputs": [],
   "source": [
    "model.compile(\n",
    "    optimizer=\"adam\",\n",
    "    loss = \"categorical_crossentropy\",\n",
    "    metrics=['accuracy'],\n",
    ")"
   ]
  },
  {
   "cell_type": "code",
   "execution_count": 19,
   "id": "7308f681",
   "metadata": {
    "execution": {
     "iopub.execute_input": "2024-02-29T22:13:00.329161Z",
     "iopub.status.busy": "2024-02-29T22:13:00.328735Z",
     "iopub.status.idle": "2024-02-29T22:19:23.921793Z",
     "shell.execute_reply": "2024-02-29T22:19:23.920163Z"
    },
    "papermill": {
     "duration": 383.613439,
     "end_time": "2024-02-29T22:19:23.925120",
     "exception": false,
     "start_time": "2024-02-29T22:13:00.311681",
     "status": "completed"
    },
    "tags": []
   },
   "outputs": [
    {
     "name": "stdout",
     "output_type": "stream",
     "text": [
      "Epoch 1/30\n",
      "148/148 [==============================] - 15s 89ms/step - loss: 0.7688 - accuracy: 0.7603 - val_loss: 0.2346 - val_accuracy: 0.9357\n",
      "Epoch 2/30\n",
      "148/148 [==============================] - 12s 84ms/step - loss: 0.2860 - accuracy: 0.9098 - val_loss: 0.1283 - val_accuracy: 0.9607\n",
      "Epoch 3/30\n",
      "148/148 [==============================] - 12s 82ms/step - loss: 0.2042 - accuracy: 0.9368 - val_loss: 0.0966 - val_accuracy: 0.9710\n",
      "Epoch 4/30\n",
      "148/148 [==============================] - 12s 84ms/step - loss: 0.1633 - accuracy: 0.9484 - val_loss: 0.0798 - val_accuracy: 0.9752\n",
      "Epoch 5/30\n",
      "148/148 [==============================] - 12s 79ms/step - loss: 0.1420 - accuracy: 0.9562 - val_loss: 0.0663 - val_accuracy: 0.9793\n",
      "Epoch 6/30\n",
      "148/148 [==============================] - 12s 80ms/step - loss: 0.1245 - accuracy: 0.9613 - val_loss: 0.0608 - val_accuracy: 0.9795\n",
      "Epoch 7/30\n",
      "148/148 [==============================] - 12s 81ms/step - loss: 0.1119 - accuracy: 0.9648 - val_loss: 0.0587 - val_accuracy: 0.9807\n",
      "Epoch 8/30\n",
      "148/148 [==============================] - 12s 81ms/step - loss: 0.1061 - accuracy: 0.9670 - val_loss: 0.0496 - val_accuracy: 0.9850\n",
      "Epoch 9/30\n",
      "148/148 [==============================] - 12s 81ms/step - loss: 0.0950 - accuracy: 0.9697 - val_loss: 0.0459 - val_accuracy: 0.9862\n",
      "Epoch 10/30\n",
      "148/148 [==============================] - 11s 77ms/step - loss: 0.0911 - accuracy: 0.9706 - val_loss: 0.0460 - val_accuracy: 0.9852\n",
      "Epoch 11/30\n",
      "148/148 [==============================] - 11s 78ms/step - loss: 0.0820 - accuracy: 0.9736 - val_loss: 0.0408 - val_accuracy: 0.9886\n",
      "Epoch 12/30\n",
      "148/148 [==============================] - 12s 79ms/step - loss: 0.0819 - accuracy: 0.9735 - val_loss: 0.0386 - val_accuracy: 0.9886\n",
      "Epoch 13/30\n",
      "148/148 [==============================] - 11s 76ms/step - loss: 0.0771 - accuracy: 0.9756 - val_loss: 0.0401 - val_accuracy: 0.9874\n",
      "Epoch 14/30\n",
      "148/148 [==============================] - 11s 75ms/step - loss: 0.0746 - accuracy: 0.9766 - val_loss: 0.0400 - val_accuracy: 0.9871\n",
      "Epoch 15/30\n",
      "148/148 [==============================] - 12s 79ms/step - loss: 0.0730 - accuracy: 0.9765 - val_loss: 0.0397 - val_accuracy: 0.9876\n",
      "Epoch 16/30\n",
      "148/148 [==============================] - 11s 76ms/step - loss: 0.0684 - accuracy: 0.9787 - val_loss: 0.0346 - val_accuracy: 0.9902\n",
      "Epoch 17/30\n",
      "148/148 [==============================] - 11s 75ms/step - loss: 0.0666 - accuracy: 0.9786 - val_loss: 0.0360 - val_accuracy: 0.9895\n",
      "Epoch 18/30\n",
      "148/148 [==============================] - 12s 79ms/step - loss: 0.0631 - accuracy: 0.9797 - val_loss: 0.0352 - val_accuracy: 0.9905\n",
      "Epoch 19/30\n",
      "148/148 [==============================] - 11s 76ms/step - loss: 0.0631 - accuracy: 0.9793 - val_loss: 0.0330 - val_accuracy: 0.9900\n",
      "Epoch 20/30\n",
      "148/148 [==============================] - 12s 80ms/step - loss: 0.0600 - accuracy: 0.9804 - val_loss: 0.0340 - val_accuracy: 0.9893\n",
      "Epoch 21/30\n",
      "148/148 [==============================] - 11s 77ms/step - loss: 0.0602 - accuracy: 0.9803 - val_loss: 0.0329 - val_accuracy: 0.9912\n",
      "Epoch 22/30\n",
      "148/148 [==============================] - 12s 78ms/step - loss: 0.0571 - accuracy: 0.9816 - val_loss: 0.0308 - val_accuracy: 0.9914\n",
      "Epoch 23/30\n",
      "148/148 [==============================] - 12s 81ms/step - loss: 0.0581 - accuracy: 0.9814 - val_loss: 0.0344 - val_accuracy: 0.9890\n",
      "Epoch 24/30\n",
      "148/148 [==============================] - 12s 79ms/step - loss: 0.0534 - accuracy: 0.9827 - val_loss: 0.0315 - val_accuracy: 0.9912\n",
      "Epoch 25/30\n",
      "148/148 [==============================] - 11s 76ms/step - loss: 0.0501 - accuracy: 0.9835 - val_loss: 0.0329 - val_accuracy: 0.9914\n",
      "Epoch 26/30\n",
      "148/148 [==============================] - 12s 82ms/step - loss: 0.0492 - accuracy: 0.9840 - val_loss: 0.0294 - val_accuracy: 0.9912\n",
      "Epoch 27/30\n",
      "148/148 [==============================] - 11s 77ms/step - loss: 0.0519 - accuracy: 0.9832 - val_loss: 0.0293 - val_accuracy: 0.9914\n",
      "Epoch 28/30\n",
      "148/148 [==============================] - 12s 79ms/step - loss: 0.0506 - accuracy: 0.9838 - val_loss: 0.0328 - val_accuracy: 0.9893\n",
      "Epoch 29/30\n",
      "148/148 [==============================] - 12s 83ms/step - loss: 0.0487 - accuracy: 0.9844 - val_loss: 0.0303 - val_accuracy: 0.9910\n",
      "Epoch 30/30\n",
      "148/148 [==============================] - 11s 77ms/step - loss: 0.0486 - accuracy: 0.9831 - val_loss: 0.0322 - val_accuracy: 0.9907\n"
     ]
    }
   ],
   "source": [
    "history = model.fit(\n",
    "    X_train, Y_train,\n",
    "    validation_data=(X_valid, Y_valid),\n",
    "    batch_size=256,\n",
    "    epochs=30,\n",
    ")"
   ]
  },
  {
   "cell_type": "code",
   "execution_count": 20,
   "id": "bd0079c1",
   "metadata": {
    "execution": {
     "iopub.execute_input": "2024-02-29T22:19:24.909100Z",
     "iopub.status.busy": "2024-02-29T22:19:24.908596Z",
     "iopub.status.idle": "2024-02-29T22:19:25.813487Z",
     "shell.execute_reply": "2024-02-29T22:19:25.812279Z"
    },
    "papermill": {
     "duration": 1.437983,
     "end_time": "2024-02-29T22:19:25.816157",
     "exception": false,
     "start_time": "2024-02-29T22:19:24.378174",
     "status": "completed"
    },
    "tags": []
   },
   "outputs": [
    {
     "data": {
      "text/plain": [
       "<Axes: >"
      ]
     },
     "execution_count": 20,
     "metadata": {},
     "output_type": "execute_result"
    },
    {
     "data": {
      "image/png": "[encoded data removed]",
      "text/plain": [
       "<Figure size 640x480 with 1 Axes>"
      ]
     },
     "metadata": {},
     "output_type": "display_data"
    },
    {
     "data": {
      "image/png": "[encoded data removed]",
      "text/plain": [
       "<Figure size 640x480 with 1 Axes>"
      ]
     },
     "metadata": {},
     "output_type": "display_data"
    }
   ],
   "source": [
    "# Show the learning curves\n",
    "history_df = pd.DataFrame(history.history)\n",
    "history_df.loc[:, ['loss', 'val_loss']].plot();\n",
    "\n",
    "#plot accuracy\n",
    "history_df.loc[:, ['accuracy', 'val_accuracy']].plot()"
   ]
  },
  {
   "cell_type": "code",
   "execution_count": 21,
   "id": "53a5ed63",
   "metadata": {
    "execution": {
     "iopub.execute_input": "2024-02-29T22:19:26.721556Z",
     "iopub.status.busy": "2024-02-29T22:19:26.721113Z",
     "iopub.status.idle": "2024-02-29T22:19:28.079869Z",
     "shell.execute_reply": "2024-02-29T22:19:28.078394Z"
    },
    "papermill": {
     "duration": 1.815465,
     "end_time": "2024-02-29T22:19:28.082850",
     "exception": false,
     "start_time": "2024-02-29T22:19:26.267385",
     "status": "completed"
    },
    "tags": []
   },
   "outputs": [
    {
     "name": "stdout",
     "output_type": "stream",
     "text": [
      "132/132 [==============================] - 1s 7ms/step - loss: 0.0322 - accuracy: 0.9907\n",
      "Test Loss: 0.03217224404215813\n",
      "Test Accuracy: 0.9907143115997314\n"
     ]
    }
   ],
   "source": [
    "test_loss, test_acc = model.evaluate(X_valid, Y_valid)\n",
    "print(\"Test Loss:\", test_loss)\n",
    "print(\"Test Accuracy:\", test_acc)"
   ]
  },
  {
   "cell_type": "code",
   "execution_count": 22,
   "id": "049379c0",
   "metadata": {
    "execution": {
     "iopub.execute_input": "2024-02-29T22:19:28.996640Z",
     "iopub.status.busy": "2024-02-29T22:19:28.995764Z",
     "iopub.status.idle": "2024-02-29T22:19:37.406483Z",
     "shell.execute_reply": "2024-02-29T22:19:37.404835Z"
    },
    "papermill": {
     "duration": 8.862901,
     "end_time": "2024-02-29T22:19:37.409401",
     "exception": false,
     "start_time": "2024-02-29T22:19:28.546500",
     "status": "completed"
    },
    "tags": []
   },
   "outputs": [
    {
     "name": "stdout",
     "output_type": "stream",
     "text": [
      "875/875 [==============================] - 6s 6ms/step\n"
     ]
    }
   ],
   "source": [
    "import numpy as np\n",
    "\n",
    "test_data= pd.read_csv('/kaggle/input/digit-recognizer/test.csv')\n",
    "test_data= test_data.astype('float32')/255\n",
    "test_data_arr= test_data.to_numpy()\n",
    "test_data_reshaped= test_data_arr.reshape((-1,28,28,1))\n",
    "predictions= model.predict(test_data_reshaped)\n",
    "\n",
    "predicted_classes= np.argmax(predictions, axis=1)"
   ]
  },
  {
   "cell_type": "code",
   "execution_count": 23,
   "id": "295b5251",
   "metadata": {
    "execution": {
     "iopub.execute_input": "2024-02-29T22:19:38.394014Z",
     "iopub.status.busy": "2024-02-29T22:19:38.393533Z",
     "iopub.status.idle": "2024-02-29T22:19:38.476469Z",
     "shell.execute_reply": "2024-02-29T22:19:38.475581Z"
    },
    "papermill": {
     "duration": 0.614422,
     "end_time": "2024-02-29T22:19:38.478777",
     "exception": false,
     "start_time": "2024-02-29T22:19:37.864355",
     "status": "completed"
    },
    "tags": []
   },
   "outputs": [
    {
     "data": {
      "text/html": [
       "<div>\n",
       "<style scoped>\n",
       "    .dataframe tbody tr th:only-of-type {\n",
       "        vertical-align: middle;\n",
       "    }\n",
       "\n",
       "    .dataframe tbody tr th {\n",
       "        vertical-align: top;\n",
       "    }\n",
       "\n",
       "    .dataframe thead th {\n",
       "        text-align: right;\n",
       "    }\n",
       "</style>\n",
       "<table border=\"1\" class=\"dataframe\">\n",
       "  <thead>\n",
       "    <tr style=\"text-align: right;\">\n",
       "      <th></th>\n",
       "      <th>ImageId</th>\n",
       "      <th>Label</th>\n",
       "    </tr>\n",
       "  </thead>\n",
       "  <tbody>\n",
       "    <tr>\n",
       "      <th>0</th>\n",
       "      <td>1</td>\n",
       "      <td>2</td>\n",
       "    </tr>\n",
       "    <tr>\n",
       "      <th>1</th>\n",
       "      <td>2</td>\n",
       "      <td>0</td>\n",
       "    </tr>\n",
       "    <tr>\n",
       "      <th>2</th>\n",
       "      <td>3</td>\n",
       "      <td>9</td>\n",
       "    </tr>\n",
       "    <tr>\n",
       "      <th>3</th>\n",
       "      <td>4</td>\n",
       "      <td>9</td>\n",
       "    </tr>\n",
       "    <tr>\n",
       "      <th>4</th>\n",
       "      <td>5</td>\n",
       "      <td>3</td>\n",
       "    </tr>\n",
       "    <tr>\n",
       "      <th>...</th>\n",
       "      <td>...</td>\n",
       "      <td>...</td>\n",
       "    </tr>\n",
       "    <tr>\n",
       "      <th>27995</th>\n",
       "      <td>27996</td>\n",
       "      <td>9</td>\n",
       "    </tr>\n",
       "    <tr>\n",
       "      <th>27996</th>\n",
       "      <td>27997</td>\n",
       "      <td>7</td>\n",
       "    </tr>\n",
       "    <tr>\n",
       "      <th>27997</th>\n",
       "      <td>27998</td>\n",
       "      <td>3</td>\n",
       "    </tr>\n",
       "    <tr>\n",
       "      <th>27998</th>\n",
       "      <td>27999</td>\n",
       "      <td>9</td>\n",
       "    </tr>\n",
       "    <tr>\n",
       "      <th>27999</th>\n",
       "      <td>28000</td>\n",
       "      <td>2</td>\n",
       "    </tr>\n",
       "  </tbody>\n",
       "</table>\n",
       "<p>28000 rows × 2 columns</p>\n",
       "</div>"
      ],
      "text/plain": [
       "       ImageId  Label\n",
       "0            1      2\n",
       "1            2      0\n",
       "2            3      9\n",
       "3            4      9\n",
       "4            5      3\n",
       "...        ...    ...\n",
       "27995    27996      9\n",
       "27996    27997      7\n",
       "27997    27998      3\n",
       "27998    27999      9\n",
       "27999    28000      2\n",
       "\n",
       "[28000 rows x 2 columns]"
      ]
     },
     "execution_count": 23,
     "metadata": {},
     "output_type": "execute_result"
    }
   ],
   "source": [
    "results= pd.Series(predicted_classes, name=\"Label\")\n",
    "submission= pd.concat([pd.Series(range(1,28001), name=\"ImageId\"), results], axis=1)\n",
    "submission.to_csv(\"submission.csv\", index=False)\n",
    "submission"
   ]
  }
 ],
 "metadata": {
  "kaggle": {
   "accelerator": "none",
   "dataSources": [
    {
     "databundleVersionId": 861823,
     "sourceId": 3004,
     "sourceType": "competition"
    }
   ],
   "dockerImageVersionId": 30635,
   "isGpuEnabled": false,
   "isInternetEnabled": true,
   "language": "python",
   "sourceType": "notebook"
  },
  "kernelspec": {
   "display_name": "Python 3",
   "language": "python",
   "name": "python3"
  },
  "language_info": {
   "codemirror_mode": {
    "name": "ipython",
    "version": 3
   },
   "file_extension": ".py",
   "mimetype": "text/x-python",
   "name": "python",
   "nbconvert_exporter": "python",
   "pygments_lexer": "ipython3",
   "version": "3.10.12"
  },
  "papermill": {
   "default_parameters": {},
   "duration": 437.686197,
   "end_time": "2024-02-29T22:19:41.778847",
   "environment_variables": {},
   "exception": null,
   "input_path": "__notebook__.ipynb",
   "output_path": "__notebook__.ipynb",
   "parameters": {},
   "start_time": "2024-02-29T22:12:24.092650",
   "version": "2.4.0"
  }
 },
 "nbformat": 4,
 "nbformat_minor": 5
}
